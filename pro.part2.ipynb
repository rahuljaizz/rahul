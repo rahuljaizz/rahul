{
 "cells": [
  {
   "cell_type": "code",
   "execution_count": 7,
   "id": "cbe4f655",
   "metadata": {},
   "outputs": [
    {
     "name": "stdout",
     "output_type": "stream",
     "text": [
      "Enter distance in kilometers: 8\n",
      "4.9720323182100685 miles\n"
     ]
    }
   ],
   "source": [
    "# 1. Write a Python program to convert kilometers to miles?\n",
    "\n",
    "\n",
    "user  = float(input(\"Enter distance in kilometers: \"))\n",
    "convert_in_miles = user / 1.609\n",
    "print(convert_in_miles,\"miles\")"
   ]
  },
  {
   "cell_type": "code",
   "execution_count": 21,
   "id": "897297b7",
   "metadata": {},
   "outputs": [
    {
     "name": "stdout",
     "output_type": "stream",
     "text": [
      "Enter temperature in Celsius: 6\n",
      "42.8 Fahrenheit\n"
     ]
    }
   ],
   "source": [
    "# 2.Write a Python program to convert Celsius to Fahrenheit?\n",
    "\n",
    "user  = float(input(\"Enter temperature in Celsius: \"))\n",
    "convert_in_Fahrenheit = (user * 9/5) + 32\n",
    "print(convert_in_Fahrenheit,\"Fahrenheit\")\n"
   ]
  },
  {
   "cell_type": "code",
   "execution_count": 32,
   "id": "dd78560b",
   "metadata": {},
   "outputs": [
    {
     "name": "stdout",
     "output_type": "stream",
     "text": [
      "ENTRE A YEAR : 2021\n",
      "ENTRE A MONTH : 1\n",
      "    January 2021\n",
      "Mo Tu We Th Fr Sa Su\n",
      "             1  2  3\n",
      " 4  5  6  7  8  9 10\n",
      "11 12 13 14 15 16 17\n",
      "18 19 20 21 22 23 24\n",
      "25 26 27 28 29 30 31\n",
      "\n"
     ]
    }
   ],
   "source": [
    "# 3.Write a Python program to display calendar?\n",
    "\n",
    "\n",
    "import calendar\n",
    "\n",
    "year = int(input(\"ENTRE A YEAR : \"))\n",
    "month = int(input(\"ENTRE A MONTH : \"))\n",
    "\n",
    "cal = calendar.month(year,month)\n",
    "print(cal)\n",
    "\n",
    "\n",
    "\n",
    "\n"
   ]
  },
  {
   "cell_type": "code",
   "execution_count": 31,
   "id": "8d6ffee9",
   "metadata": {},
   "outputs": [
    {
     "name": "stdout",
     "output_type": "stream",
     "text": [
      "Enter the coefficient of x^2: 4\n",
      "Enter the coefficient of x: 2\n",
      "Enter the constant term: 9\n",
      "The solutions to the quadratic equation are:\n",
      "Root 1: (-0.25+1.479019945774904j)\n",
      "Root 2: (-0.25-1.479019945774904j)\n"
     ]
    }
   ],
   "source": [
    "# 4.Write a Python program to solve quadratic equation?\n",
    "import cmath\n",
    "\n",
    "def solve_quadratic(a, b, c):\n",
    "    # Calculate the discriminant\n",
    "    discriminant = (b**2) - (4*a*c)\n",
    "\n",
    "    \n",
    "    root1 = (-b + cmath.sqrt(discriminant)) / (2*a)\n",
    "    root2 = (-b - cmath.sqrt(discriminant)) / (2*a)\n",
    "\n",
    "    return root1, root2\n",
    "\n",
    "\n",
    "a = float(input(\"Enter the coefficient of x^2: \"))\n",
    "b = float(input(\"Enter the coefficient of x: \"))\n",
    "c = float(input(\"Enter the constant term: \"))\n",
    "\n",
    "roots = solve_quadratic(a, b, c)\n",
    "\n",
    "print(\"The solutions to the quadratic equation are:\")\n",
    "print(\"Root 1:\", roots[0])\n",
    "print(\"Root 2:\", roots[1])\n",
    "\n",
    "\n"
   ]
  },
  {
   "cell_type": "code",
   "execution_count": 20,
   "id": "0688df74",
   "metadata": {},
   "outputs": [
    {
     "name": "stdout",
     "output_type": "stream",
     "text": [
      "x 15\n",
      "y 10\n"
     ]
    }
   ],
   "source": [
    "# 5.Write a Python program to swap two variables without temp variable?\n",
    "\n",
    "x= 10\n",
    "y = 15\n",
    "\n",
    "x, y  =  y, x\n",
    "print(\"x\" , x)\n",
    "print(\"y\" , y)\n",
    "\n"
   ]
  },
  {
   "cell_type": "code",
   "execution_count": null,
   "id": "2da8b48f",
   "metadata": {},
   "outputs": [],
   "source": [
    "\n"
   ]
  },
  {
   "cell_type": "code",
   "execution_count": null,
   "id": "e3d9d6f7",
   "metadata": {},
   "outputs": [],
   "source": []
  }
 ],
 "metadata": {
  "kernelspec": {
   "display_name": "Python 3 (ipykernel)",
   "language": "python",
   "name": "python3"
  },
  "language_info": {
   "codemirror_mode": {
    "name": "ipython",
    "version": 3
   },
   "file_extension": ".py",
   "mimetype": "text/x-python",
   "name": "python",
   "nbconvert_exporter": "python",
   "pygments_lexer": "ipython3",
   "version": "3.9.13"
  }
 },
 "nbformat": 4,
 "nbformat_minor": 5
}
