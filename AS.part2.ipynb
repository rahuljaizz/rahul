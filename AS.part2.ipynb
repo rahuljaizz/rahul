{
 "cells": [
  {
   "cell_type": "code",
   "execution_count": 7,
   "id": "e3d9d6f7",
   "metadata": {},
   "outputs": [],
   "source": [
    "#  1.What are the two values of the Boolean data type? How do you write them?\n",
    "\n",
    "There are only two  data Boolean values True or False that can be represented by \n",
    "this data type.\n",
    "python internally represents True as 1 and False as 0.\n",
    "\n"
   ]
  },
  {
   "cell_type": "code",
   "execution_count": 6,
   "id": "fc9f914e",
   "metadata": {},
   "outputs": [],
   "source": [
    "# 2. What are the three different types of Boolean operators?\n",
    "1.and\n",
    "2.or\n",
    "3.not"
   ]
  },
  {
   "cell_type": "code",
   "execution_count": null,
   "id": "bb87a360",
   "metadata": {},
   "outputs": [],
   "source": [
    "# 3. Make a list of each Boolean operator truth tables \n",
    "#     (i.e. every possible combination of Boolean\n",
    "#     values for the operator and what it evaluate ).\n",
    "\n",
    "lets take True = x  and False = y\n",
    "\n",
    "OPERATOR      MEANING                                             RESULT.\n",
    "1. and      -if both  x and y are True, then it  returns true,    False\n",
    "             otherwise False.\n",
    "    \n",
    "2. or       -if either x or y is True,then it  returns true,      True\n",
    "              otherwise False.\n",
    "    \n",
    "3. not      - if x is True ,then it  returns  False, else  True.    False."
   ]
  },
  {
   "cell_type": "code",
   "execution_count": 8,
   "id": "1fd1313a",
   "metadata": {},
   "outputs": [],
   "source": [
    "# 4. What are the values of the following expressions?\n",
    "\n",
    "      #  (5 > 4) and (3 == 5)\n",
    "ans    False\n",
    "\n",
    "      #  not (5 > 4)\n",
    "ans     False\n",
    "\n",
    "      #  (5>4) or (3 == 5)\n",
    "ans      True\n",
    "    \n",
    "      #  not ((5 > 4) or (3 == 5))\n",
    "ans     False \n",
    "\n",
    "      #  (True and True) and (True == False)\n",
    "ans     False \n",
    "\n",
    "      #  (not False) or (not True)\n",
    "ans     True    \n",
    "    \n",
    "       \n"
   ]
  },
  {
   "cell_type": "code",
   "execution_count": null,
   "id": "53e6fd7a",
   "metadata": {},
   "outputs": [],
   "source": [
    "#5. What are the six comparison operators? \n",
    "\n",
    "\n",
    "\n",
    "1. Equal to (`==`): Compares if two values are equal and returns `True` \n",
    "                    if they are True , `False` otherwise.\n",
    "        \n",
    "2. Not equal to (`!=`): Compares if two values are not equal and \n",
    "                       returns `True` if they are not, `False` otherwise.\n",
    "        \n",
    "3. Greater than (`>`): Checks if one value is greater than the otherwise \n",
    "                       and returns `True` if it is, `False` otherwise.\n",
    "        \n",
    "4. Less than (`<`): Checks if one value is less than the other and \n",
    "                     returns `True` if it is, `False` otherwise.\n",
    "        \n",
    "5. Greater than or equal to (`>=`): Checks if one value is greater than or equal\n",
    "                      to the other and returns `True` if it is, `False` otherwise.\n",
    "        \n",
    "6. Less than or equal to (`<=`): Checks if one value is less than or equal \n",
    "                       to the other and returns `True` if it is, `False` otherwise.\n",
    "\n"
   ]
  },
  {
   "cell_type": "code",
   "execution_count": null,
   "id": "691ac348",
   "metadata": {},
   "outputs": [],
   "source": [
    "# 6. How do you tell the difference between the equal to and assignment operators? \n",
    "#     Describe acondition and when you would use one.\n",
    "\n",
    "1. Equal to (==) operator:\n",
    "      The equal to operator (==) is a comparison operator used to check if two values are equal. \n",
    "       It returns True if the values are equal and False if they are not. \n",
    "        It is used in conditional statements or expressions to \n",
    "        compare values and make decisions based on the comparison.\n",
    "x = 5\n",
    "if x == 5:\n",
    "    print(\"The value of x is 5.\")\n",
    "\n",
    "    \n",
    "2.Assignment (=) operator:\n",
    "     The assignment operator (=) is used to assign a value to a variable. \n",
    "     It assigns the value on the right side of the operator to the variable on the left side. \n",
    "     It does not compare values like the equal to operator; rather, it performs an -\n",
    "      assignment operation.\n",
    "    \n",
    "x = 5\n",
    "y = x + 2\n",
    "\n"
   ]
  },
  {
   "cell_type": "code",
   "execution_count": 10,
   "id": "a3e5bfd2",
   "metadata": {
    "scrolled": true
   },
   "outputs": [
    {
     "name": "stdout",
     "output_type": "stream",
     "text": [
      "ham\n",
      "spam\n",
      "spam\n"
     ]
    }
   ],
   "source": [
    "#  7. Identify the three blocks in this code:\n",
    "spam = 0\n",
    "if spam == 10:\n",
    "    print(\"eggs\")\n",
    "if spam> 5:\n",
    "    print(\"bacon\")\n",
    "else:\n",
    "    print(\"ham\")\n",
    "    print(\"spam\")\n",
    "    print(\"spam\")\n",
    "    \n",
    "    \n",
    "Block 1: \n",
    "if spam == 10:\n",
    "    print(\"eggs\")\n",
    "    \n",
    "Block 2:\n",
    "if spam> 5:\n",
    "    print(\"bacon\")\n",
    "    \n",
    "Block 3:\n",
    "else:\n",
    "    print(\"ham\")\n",
    "    print(\"spam\")\n",
    "    print(\"spam\")\n",
    "    "
   ]
  },
  {
   "cell_type": "code",
   "execution_count": 14,
   "id": "601efce4",
   "metadata": {},
   "outputs": [
    {
     "name": "stdout",
     "output_type": "stream",
     "text": [
      "enter a value : 5\n",
      "Greetings! \n"
     ]
    }
   ],
   "source": [
    "#8. Write code that prints Hello if 1 is stored in spam, \n",
    "#    prints Howdy if 2 is stored in spam, and prints\n",
    "#   Greetings! if anything else is stored in spam.\n",
    "\n",
    "spam = int(input(\"enter a value : \"))\n",
    "if  spam == 1:\n",
    "    print(\"hello\")\n",
    "elif spam == 2:\n",
    "    print(\"Howdy\")\n",
    "else :\n",
    "    print(\"Greetings! \")\n",
    "\n"
   ]
  },
  {
   "cell_type": "code",
   "execution_count": null,
   "id": "ffcc8d8f",
   "metadata": {},
   "outputs": [],
   "source": [
    "# 9.If your programme is stuck in an endless loop, what keys you’ll press?\n",
    "Pressing \"Ctrl + C \" sends an interrupt signal to the running program, \n",
    "which usually terminates the program and stops the endless loop. "
   ]
  },
  {
   "cell_type": "code",
   "execution_count": null,
   "id": "8485089f",
   "metadata": {},
   "outputs": [],
   "source": [
    "# 10. How can you tell the difference between break and continue?\n",
    "\n",
    "Break:    A break statement in Python alters the flow of a \n",
    "         loop by terminating it once a specified condition is met.  \n",
    "        \n",
    "Continue: The continue statement in Python is used to skip the \n",
    "          remaining code inside a loop for the current iteration only."
   ]
  },
  {
   "cell_type": "code",
   "execution_count": 19,
   "id": "3a0e6ddf",
   "metadata": {},
   "outputs": [
    {
     "name": "stdout",
     "output_type": "stream",
     "text": [
      "0\n",
      "1\n",
      "2\n",
      "3\n",
      "4\n",
      "5\n",
      "6\n",
      "7\n",
      "8\n",
      "9\n",
      "---------------------\n",
      "0\n",
      "1\n",
      "2\n",
      "3\n",
      "4\n",
      "5\n",
      "6\n",
      "7\n",
      "8\n",
      "9\n",
      "---------------------\n",
      "0\n",
      "1\n",
      "2\n",
      "3\n",
      "4\n",
      "5\n",
      "6\n",
      "7\n",
      "8\n",
      "9\n"
     ]
    }
   ],
   "source": [
    "# 11. In a for loop, what is the difference between range(10), range(0, 10), and range(0, 10, 1)?\n",
    "\n",
    "#1.range(10)\n",
    "\n",
    "for i in range(10):\n",
    "    print(i)\n",
    "This expression generates a sequence of numbers starting from 0 and ending at 9 (excluding 10).\n",
    "It uses the default start value of 0 and the default step value of 1.\n",
    "print(\"---------------------\")\n",
    "\n",
    "#2.range(0, 10)\n",
    "\n",
    "for v in range(0,10):\n",
    "    print(v)\n",
    "This expression is similar to range(10).\n",
    "It explicitly specifies the start value as 0, but it uses the default step value of 1.\n",
    "print(\"---------------------\")\n",
    "\n",
    "\n",
    "#3.range(0, 10, 1)\n",
    "\n",
    "for b in range(0,10,1):\n",
    "    print(b)\n",
    "This expression is once again similar to the previous two.\n",
    "It explicitly specifies the start value as 0, the end value as 10 (excluding 10), \n",
    " and the step value as 1.\n",
    "\n",
    "    \n"
   ]
  },
  {
   "cell_type": "code",
   "execution_count": 23,
   "id": "c497cf41",
   "metadata": {},
   "outputs": [
    {
     "name": "stdout",
     "output_type": "stream",
     "text": [
      "0\n",
      "1\n",
      "2\n",
      "3\n",
      "4\n",
      "5\n",
      "6\n",
      "7\n",
      "8\n",
      "9\n",
      "10\n",
      "--------------------\n",
      "1\n",
      "2\n",
      "3\n",
      "4\n",
      "5\n",
      "6\n",
      "7\n",
      "8\n",
      "9\n",
      "10\n"
     ]
    }
   ],
   "source": [
    "#    12. Write a short program that prints the numbers 1 to 10 using a for loop.\n",
    "#  then write an equivalent program that prints the numbers 1 to 10 using a while loop.\n",
    "\n",
    "# for loop\n",
    "for i in range(11):\n",
    "    print(i)\n",
    "        \n",
    "print(\"--------------------\")\n",
    "# while loop\n",
    "a = 1\n",
    "while a <= 10 :\n",
    "    print(a)\n",
    "    a  = a+1\n",
    "    \n",
    "    \n"
   ]
  },
  {
   "cell_type": "code",
   "execution_count": null,
   "id": "fb2d9a2d",
   "metadata": {},
   "outputs": [],
   "source": [
    "# 13. If you had a function named bacon() inside a module named spam, how would you call it after\n",
    "# importing spam?\n",
    "\n",
    "After importing the spam module, you can call the bacon() function.\n",
    "\n",
    "import spam\n",
    "\n",
    "spam.bacon()\n"
   ]
  }
 ],
 "metadata": {
  "kernelspec": {
   "display_name": "Python 3 (ipykernel)",
   "language": "python",
   "name": "python3"
  },
  "language_info": {
   "codemirror_mode": {
    "name": "ipython",
    "version": 3
   },
   "file_extension": ".py",
   "mimetype": "text/x-python",
   "name": "python",
   "nbconvert_exporter": "python",
   "pygments_lexer": "ipython3",
   "version": "3.9.13"
  }
 },
 "nbformat": 4,
 "nbformat_minor": 5
}
