{
 "cells": [
  {
   "cell_type": "code",
   "execution_count": 1,
   "id": "535cf709",
   "metadata": {},
   "outputs": [
    {
     "name": "stdout",
     "output_type": "stream",
     "text": [
      "Hello Python\n"
     ]
    }
   ],
   "source": [
    "# 1.Write a Python program to print Hello Python?  \n",
    "\n",
    "a = \"Hello Python\"\n",
    "print(a)"
   ]
  },
  {
   "cell_type": "code",
   "execution_count": 2,
   "id": "3c4e57e7",
   "metadata": {},
   "outputs": [
    {
     "name": "stdout",
     "output_type": "stream",
     "text": [
      "15\n",
      "3\n"
     ]
    }
   ],
   "source": [
    "#2.Write a Python program to do arithmetical operations addition and division?\n",
    "\n",
    "a = 9\n",
    "b = 6\n",
    "add = a+b\n",
    "div = a-b\n",
    "\n",
    "print(add)\n",
    "print(div)"
   ]
  },
  {
   "cell_type": "code",
   "execution_count": 6,
   "id": "b43e19f1",
   "metadata": {},
   "outputs": [],
   "source": [
    "# 3.Write a Python program to find the area of a triangle?\n",
    "\n",
    "\n",
    "def calculation (base,height):\n",
    "    area = 0.5 * base * height \n",
    "    return area"
   ]
  },
  {
   "cell_type": "code",
   "execution_count": 7,
   "id": "998f4b51",
   "metadata": {},
   "outputs": [
    {
     "data": {
      "text/plain": [
       "12.0"
      ]
     },
     "execution_count": 7,
     "metadata": {},
     "output_type": "execute_result"
    }
   ],
   "source": [
    "calculation(4,6)"
   ]
  },
  {
   "cell_type": "code",
   "execution_count": 2,
   "id": "48595fe8",
   "metadata": {},
   "outputs": [
    {
     "name": "stdout",
     "output_type": "stream",
     "text": [
      "a = 9\n",
      "b = 7\n"
     ]
    }
   ],
   "source": [
    "# 4. Write a Python program to swap two variables?\n",
    "a = 7\n",
    "b = 9\n",
    "\n",
    "a,b = b,a\n",
    "print(\"a =\", a)\n",
    "print(\"b =\", b)\n"
   ]
  },
  {
   "cell_type": "code",
   "execution_count": 1,
   "id": "b0d66692",
   "metadata": {},
   "outputs": [
    {
     "name": "stdout",
     "output_type": "stream",
     "text": [
      "Enter the starting number of the range: 10\n",
      "Enter the ending number of the range: 200\n",
      "50\n"
     ]
    }
   ],
   "source": [
    "# 5.Write a Python program to generate a random number?\n",
    "\n",
    "import random\n",
    "\n",
    "def gen_random_num(first , last):\n",
    "    return random.randint(first , last)\n",
    "\n",
    "first = int(input(\"Enter the starting number of the range: \"))\n",
    "last  = int(input(\"Enter the ending number of the range: \"))\n",
    "\n",
    "random_num = gen_random_num(first , last)\n",
    "print(random_num)\n"
   ]
  },
  {
   "cell_type": "code",
   "execution_count": null,
   "id": "a95fdcb6",
   "metadata": {},
   "outputs": [],
   "source": []
  }
 ],
 "metadata": {
  "kernelspec": {
   "display_name": "Python 3 (ipykernel)",
   "language": "python",
   "name": "python3"
  },
  "language_info": {
   "codemirror_mode": {
    "name": "ipython",
    "version": 3
   },
   "file_extension": ".py",
   "mimetype": "text/x-python",
   "name": "python",
   "nbconvert_exporter": "python",
   "pygments_lexer": "ipython3",
   "version": "3.9.13"
  }
 },
 "nbformat": 4,
 "nbformat_minor": 5
}
